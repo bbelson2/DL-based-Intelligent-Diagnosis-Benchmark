{
 "cells": [
  {
   "cell_type": "code",
   "execution_count": 1,
   "metadata": {},
   "outputs": [],
   "source": [
    "import pandas as pd"
   ]
  },
  {
   "cell_type": "code",
   "execution_count": 2,
   "metadata": {},
   "outputs": [
    {
     "name": "stdout",
     "output_type": "stream",
     "text": [
      "['/home/bruce/repos/DL-based-Intelligent-Diagnosis-Benchmark', '/home/bruce/anaconda3/lib/python37.zip', '/home/bruce/anaconda3/lib/python3.7', '/home/bruce/anaconda3/lib/python3.7/lib-dynload', '', '/home/bruce/.local/lib/python3.7/site-packages', '/vann/code/common', '/home/bruce/anaconda3/lib/python3.7/site-packages', '/home/bruce/anaconda3/lib/python3.7/site-packages/IPython/extensions', '/home/bruce/.ipython']\n"
     ]
    }
   ],
   "source": [
    "import sys\n",
    "print(sys.path)"
   ]
  },
  {
   "cell_type": "code",
   "execution_count": 4,
   "metadata": {},
   "outputs": [
    {
     "name": "stdout",
     "output_type": "stream",
     "text": [
      "# packages in environment at /home/bruce/anaconda3/envs/pytorch:\r\n",
      "#\r\n",
      "# Name                    Version                   Build  Channel\r\n",
      "_libgcc_mutex             0.1                        main  \r\n",
      "_pytorch_select           0.1                       cpu_0  \r\n",
      "astroid                   2.4.1                    py37_0  \r\n",
      "blas                      1.0                         mkl  \r\n",
      "bzip2                     1.0.8                h7b6447c_0  \r\n",
      "ca-certificates           2020.1.1                      0  \r\n",
      "cairo                     1.14.12              h8948797_3  \r\n",
      "certifi                   2020.4.5.1               py37_0  \r\n",
      "cffi                      1.14.0           py37he30daa8_1  \r\n",
      "cudatoolkit               10.2.89              hfd86e86_1  \r\n",
      "ffmpeg                    4.0                  hcdf2ecd_0  \r\n",
      "fontconfig                2.13.0               h9420a91_0  \r\n",
      "freeglut                  3.0.0                hf484d3e_5  \r\n",
      "freetype                  2.9.1                h8a8886c_1  \r\n",
      "glib                      2.63.1               h3eb4bd4_1  \r\n",
      "graphite2                 1.3.13               h23475e2_0  \r\n",
      "harfbuzz                  1.8.8                hffaf4a1_0  \r\n",
      "hdf5                      1.10.2               hba1933b_1  \r\n",
      "icu                       58.2                 he6710b0_3  \r\n",
      "intel-openmp              2020.1                      217  \r\n",
      "isort                     4.3.21                   py37_0  \r\n",
      "jasper                    2.0.14               h07fcdf6_1  \r\n",
      "joblib                    0.15.1                     py_0  \r\n",
      "jpeg                      9b                   h024ee3a_2  \r\n",
      "lazy-object-proxy         1.4.3            py37h7b6447c_0  \r\n",
      "ld_impl_linux-64          2.33.1               h53a641e_7  \r\n",
      "libedit                   3.1.20181209         hc058e9b_0  \r\n",
      "libffi                    3.3                  he6710b0_1  \r\n",
      "libgcc-ng                 9.1.0                hdf63c60_0  \r\n",
      "libgfortran-ng            7.3.0                hdf63c60_0  \r\n",
      "libglu                    9.0.0                hf484d3e_1  \r\n",
      "libopencv                 3.4.2                hb342d67_1  \r\n",
      "libopus                   1.3.1                h7b6447c_0  \r\n",
      "libpng                    1.6.37               hbc83047_0  \r\n",
      "libstdcxx-ng              9.1.0                hdf63c60_0  \r\n",
      "libtiff                   4.1.0                h2733197_0  \r\n",
      "libuuid                   1.0.3                h1bed415_2  \r\n",
      "libvpx                    1.7.0                h439df22_0  \r\n",
      "libxcb                    1.13                 h1bed415_1  \r\n",
      "libxml2                   2.9.9                hea5a465_1  \r\n",
      "mccabe                    0.6.1                    py37_1  \r\n",
      "mkl                       2020.1                      217  \r\n",
      "mkl-service               2.3.0            py37he904b0f_0  \r\n",
      "mkl_fft                   1.0.15           py37ha843d7b_0  \r\n",
      "mkl_random                1.1.0            py37hd6b4f25_0  \r\n",
      "ncurses                   6.2                  he6710b0_1  \r\n",
      "ninja                     1.9.0            py37hfd86e86_0  \r\n",
      "numpy                     1.18.1           py37h4f9e942_0  \r\n",
      "numpy-base                1.18.1           py37hde5b4d6_1  \r\n",
      "olefile                   0.46                     py37_0  \r\n",
      "opencv                    3.4.2            py37h6fd60c2_1  \r\n",
      "openssl                   1.1.1g               h7b6447c_0  \r\n",
      "pandas                    1.0.3            py37h0573a6f_0  \r\n",
      "pcre                      8.43                 he6710b0_0  \r\n",
      "pillow                    6.2.2                    pypi_0    pypi\r\n",
      "pip                       20.0.2                   py37_3  \r\n",
      "pixman                    0.38.0               h7b6447c_0  \r\n",
      "py-opencv                 3.4.2            py37hb342d67_1  \r\n",
      "pycparser                 2.20                       py_0  \r\n",
      "pylint                    2.5.2                    py37_0  \r\n",
      "python                    3.7.7                hcff3b4d_5  \r\n",
      "python-dateutil           2.8.1                      py_0  \r\n",
      "pytorch                   1.5.0           py3.7_cuda10.2.89_cudnn7.6.5_0    pytorch\r\n",
      "pytz                      2020.1                     py_0  \r\n",
      "pywavelets                1.1.1            py37h7b6447c_0  \r\n",
      "readline                  8.0                  h7b6447c_0  \r\n",
      "scikit-learn              0.22.1           py37hd81dba3_0  \r\n",
      "scipy                     1.4.1            py37h0b6359f_0  \r\n",
      "setuptools                46.4.0                   py37_0  \r\n",
      "six                       1.14.0                   py37_0  \r\n",
      "sqlite                    3.31.1               h62c20be_1  \r\n",
      "thop                      0.0.31-2005241907          pypi_0    pypi\r\n",
      "tk                        8.6.8                hbc83047_0  \r\n",
      "toml                      0.10.0           py37h28b3542_0  \r\n",
      "torchvision               0.6.0                py37_cu102    pytorch\r\n",
      "tqdm                      4.46.0                     py_0  \r\n",
      "typed-ast                 1.4.1            py37h7b6447c_0  \r\n",
      "wheel                     0.34.2                   py37_0  \r\n",
      "wrapt                     1.11.2           py37h7b6447c_0  \r\n",
      "xz                        5.2.5                h7b6447c_0  \r\n",
      "zlib                      1.2.11               h7b6447c_3  \r\n",
      "zstd                      1.3.7                h0b5b093_0  \r\n"
     ]
    }
   ],
   "source": [
    "!conda list"
   ]
  },
  {
   "cell_type": "code",
   "execution_count": null,
   "metadata": {},
   "outputs": [],
   "source": []
  }
 ],
 "metadata": {
  "kernelspec": {
   "display_name": "Python 3",
   "language": "python",
   "name": "python3"
  },
  "language_info": {
   "codemirror_mode": {
    "name": "ipython",
    "version": 3
   },
   "file_extension": ".py",
   "mimetype": "text/x-python",
   "name": "python",
   "nbconvert_exporter": "python",
   "pygments_lexer": "ipython3",
   "version": "3.7.4"
  }
 },
 "nbformat": 4,
 "nbformat_minor": 2
}
